{
 "cells": [
  {
   "cell_type": "markdown",
   "metadata": {},
   "source": [
    "# Written text as operational data\n",
    "\n",
    "Written text is one type of data\n",
    "\n",
    "### Why people write?\n",
    "\n",
    " - To communicate: their thoughts, feelings, urgency, needs, information\n",
    "\n",
    "### Why people communicate?\n",
    "\n",
    "1. To express emotions\n",
    "1. To share information\n",
    "1. To enable or elicit an action\n",
    "1. ...\n",
    "\n",
    "### We will use written text for the purpose other than \n",
    "1. To experience emotion\n",
    "1. To learn something the author intended us to learn\n",
    "1. To do what the author intended us to do\n",
    "\n",
    "### Instead, we will use written text to recognize who wrote it\n",
    " - By calculating and comparing word frequencies in written documents\n",
    " \n",
    "See, for example, likely fictional story https://medium.com/@amuse/how-the-nsa-caught-satoshi-nakamoto-868affcef595"
   ]
  },
  {
   "cell_type": "markdown",
   "metadata": {},
   "source": [
    "### Example 1. Dictionaries in python (associative arrays)\n",
    "\n",
    "Plot the frequency distribution of words on a web page."
   ]
  },
  {
   "cell_type": "code",
   "execution_count": 101,
   "metadata": {},
   "outputs": [
    {
     "name": "stdout",
     "output_type": "stream",
     "text": [
      "<!DOCTYPE\t1\n",
      "PUBLIC\t1\n",
      "\"-//IETF//DTD\t1\n",
      "2.0//EN\">\t1\n",
      "<html><head>\t1\n",
      "<title>403\t1\n",
      "Forbidden</title>\t1\n",
      "</head><body>\t1\n",
      "<h1>Forbidden</h1>\t1\n",
      "<p>You\t1\n",
      "don't\t1\n",
      "have\t1\n",
      "permission\t1\n",
      "to\t1\n"
     ]
    }
   ],
   "source": [
    "import requests, re\n",
    "# re is a module for regular expressions: to detect various combinations of characters\n",
    "import operator\n",
    "\n",
    "# Start from a simple document\n",
    "r = requests .get('http://eecs.utk.edu')\n",
    "\n",
    "# What comes back includes headers and other HTTP stuff, get just the body of the response\n",
    "t = r.text\n",
    "\n",
    "# obtain words by splitting a string using as separator one or more (+) space/like characters (\\s) \n",
    "wds = re.split('\\s+',t)\n",
    "\n",
    "# now populate a dictionary (wf)\n",
    "wf = {}\n",
    "for w in wds:\n",
    "    if w in wf: wf [w] = wf [w] + 1\n",
    "    else:  wf[w] = 1\n",
    "\n",
    "# dictionaries can not be sorted, so lets get a sorted *list*        \n",
    "wfs = sorted (wf .items(), key = operator .itemgetter (1), reverse=True)   \n",
    "\n",
    "# lets just have no more than 15 words \n",
    "ml = min(len(wfs),15)\n",
    "for i in range(1,ml,1):\n",
    "    print (wfs[i][0]+\"\\t\"+str(wfs[i][1]))  "
   ]
  },
  {
   "cell_type": "markdown",
   "metadata": {},
   "source": [
    "### Example 2\n",
    "\n",
    "Lots of markup in the output, lets remove it --- \n",
    "\n",
    "use BeautifulSoup and nltk modules and practice some regular expressions."
   ]
  },
  {
   "cell_type": "code",
   "execution_count": 102,
   "metadata": {},
   "outputs": [],
   "source": [
    "import requests, re, nltk\n",
    "from bs4 import BeautifulSoup\n",
    "from nltk import clean_html\n",
    "from collections import Counter\n",
    "import operator\n",
    "\n",
    "# we may not care about the usage of stop words\n",
    "stop_words = nltk.corpus.stopwords.words('english') + [\n",
    " 'ut', '\\'re','.', ',', '--', '\\'s', '?', ')', '(', ':', '\\'',\n",
    " '\\\"', '-', '}', '{', '&', '|', u'\\u2014' ]\n",
    "\n",
    "# We most likely would like to remove html markup\n",
    "def cleanHtml (html):\n",
    "    from bs4 import BeautifulSoup\n",
    "    soup = BeautifulSoup(html, 'html.parser')\n",
    "    return soup .get_text()\n",
    "\n",
    "# We also want to remove special characters, quotes, etc. from each word\n",
    "def cleanWord (w):\n",
    "    # r in r'[.,\"\\']' tells to treat \\ as a regular character \n",
    "    # but we need to escape ' with \\'\n",
    "    # any character between the brackets [] is to be removed \n",
    "    wn = re.sub('[,\"\\.\\'&\\|:@>*;/=]', \"\", w)\n",
    "    # get rid of numbers\n",
    "    return re.sub('^[0-9\\.]*$', \"\", wn)\n",
    "       \n",
    "# define a function to get text/clean/calculate frequency\n",
    "def get_wf (URL):\n",
    "    # first get the web page\n",
    "    r = requests .get(URL)\n",
    "    \n",
    "    # Now clean\n",
    "    # remove html markup\n",
    "    t = cleanHtml (r .text) .lower()\n",
    "    \n",
    "    # split string into an array of words using any sequence of spaces \"\\s+\" \n",
    "    wds = re .split('\\s+',t)\n",
    "    \n",
    "    # remove periods, commas, etc stuck to the edges of words\n",
    "    for i in range(len(wds)):\n",
    "        wds [i] = cleanWord (wds [i])\n",
    "    \n",
    "    # If satisfied with results, lets go to the next step: calculate frequencies\n",
    "    # We can write a loop to create a dictionary, but \n",
    "    # there is a special function for everything in python\n",
    "    # in particular for counting frequencies (like function table() in R)\n",
    "    wf = Counter (wds)\n",
    "    \n",
    "    # Remove stop words from the dictionary wf\n",
    "    for k in stop_words:\n",
    "        wf. pop(k, None)\n",
    "        \n",
    "    #how many regular words in the document?\n",
    "    tw = 0\n",
    "    for w in wf:\n",
    "       tw += wf[w] \n",
    "        \n",
    "    \n",
    "    # Get ordered list\n",
    "    wfs = sorted (wf .items(), key = operator.itemgetter(1), reverse=True)\n",
    "    ml = min(len(wfs),15)\n",
    "\n",
    "    #Reverse the list because barh plots items from the bottom\n",
    "    return (wfs [ 0:ml ] [::-1], tw)\n",
    "        \n",
    "# Now populate two lists    \n",
    "(wf_ee, tw_ee) = get_wf('http://www.gutenberg.org/ebooks/1342.txt.utf-8')\n",
    "(wf_bu, tw_bu) = get_wf('http://www.gutenberg.org/ebooks/76.txt.utf-8')"
   ]
  },
  {
   "cell_type": "code",
   "execution_count": 105,
   "metadata": {},
   "outputs": [],
   "source": [
    "#Plot the results: are there striking differences in language?\n",
    "import numpy as np\n",
    "import pylab\n",
    "import matplotlib.pyplot as plt\n",
    "\n",
    "%matplotlib inline\n",
    "def plotTwoLists (wf_ee, wf_bu, title):\n",
    "    f = plt.figure (figsize=(10, 6))\n",
    "    # this is painfully tedious....\n",
    "    f .suptitle (title, fontsize=20)\n",
    "    ax = f.add_subplot(111)\n",
    "    ax .spines ['top'] .set_color ('none')\n",
    "    ax .spines ['bottom'] .set_color ('none')\n",
    "    ax .spines ['left'] .set_color ('none')\n",
    "    ax .spines ['right'] .set_color ('none')\n",
    "    ax .tick_params (labelcolor='w', top='off', bottom='off', left='off', right='off', labelsize=20)\n",
    "\n",
    "    # Create two subplots, this is the first one\n",
    "    ax1 = f .add_subplot (121)\n",
    "    plt .subplots_adjust (wspace=.5)\n",
    "\n",
    "    pos = np .arange (len(wf_ee)) \n",
    "    ax1 .tick_params (axis='both', which='major', labelsize=14)\n",
    "    pylab .yticks (pos, [ x [0] for x in wf_ee ])\n",
    "    ax1 .barh (range(len(wf_ee)), [ x [1] for x in wf_ee ], align='center')\n",
    "\n",
    "    ax2 = f .add_subplot (122)\n",
    "    ax2 .tick_params (axis='both', which='major', labelsize=14)\n",
    "    pos = np .arange (len(wf_bu)) \n",
    "    pylab .yticks (pos, [ x [0] for x in wf_bu ])\n",
    "    ax2 .barh (range (len(wf_bu)), [ x [1] for x in wf_bu ], align='center')\n",
    "\n",
    "#plotTwoLists (wf_ee, wf_bu, 'Difference between Pride and Prejudice and Huck Finn')"
   ]
  },
  {
   "cell_type": "code",
   "execution_count": 103,
   "metadata": {},
   "outputs": [
    {
     "name": "stdout",
     "output_type": "stream",
     "text": [
      "and\t2836\n",
      "of\t2676\n",
      "to\t2646\n",
      "a\t2217\n",
      "in\t1422\n",
      "his\t1205\n",
      "he\t928\n",
      "that\t920\n",
      "was\t823\n",
      "for\t798\n",
      "with\t797\n",
      "as\t672\n",
      "I\t505\n",
      "you\t497\n"
     ]
    }
   ],
   "source": [
    "#In case Project gutenberg is blocked you can download text to your laptop and copy to the docker container via scp\n",
    "#Assuming the file name you copy is pg4680.txt here is how you change the script\n",
    "# Please note the option errors='replace'\n",
    "# without it python invariably runs into unicode errors\n",
    "f = open ('pg4680.txt', 'r', encoding=\"ascii\", errors='replace')\n",
    "    \n",
    "# What comes back includes headers and other HTTP stuff, get just the body of the response\n",
    "t = f.read()\n",
    "\n",
    "# obtain words by splitting a string using as separator one or more (+) space/like characters (\\s) \n",
    "wds = re.split('\\s+',t)\n",
    "\n",
    "# now populate a dictionary (wf)\n",
    "wf = {}\n",
    "for w in wds:\n",
    "    if w in wf: wf [w] = wf [w] + 1\n",
    "    else:  wf [w] = 1\n",
    "\n",
    "# dictionaries can not be sorted, so lets get a sorted *list*        \n",
    "wfs = sorted (wf .items(), key = operator .itemgetter (1), reverse=True)   \n",
    "\n",
    "# lets just have no more than 15 words \n",
    "ml = min(len(wfs),15)\n",
    "for i in range(1,ml,1):\n",
    "    print (wfs[i][0]+\"\\t\"+str(wfs[i][1]))  "
   ]
  },
  {
   "cell_type": "markdown",
   "metadata": {},
   "source": [
    "# Assignment 1\n",
    "\n",
    "1. Compare word frequencies between two works of a single author.\n",
    "1. Compare word frequencies between works of two authors.\n",
    "1. Are there some words preferred by one author but used less frequently by another author?\n",
    "\n",
    "Extra credit\n",
    "\n",
    "1. The frequency of a specific word, e.g., \"would\" should follow a binomial distribution (each regular word in a document is a trial and with probability p that word is \"would\". The estimate for p is N(\"would\")/N(regular word)). Do these binomial distributions for your chosen word differ significantly between books of the same author or between authors? \n",
    "\n",
    "Project Gutenberg is a good source of for fiction and non-fiction.\n",
    "\n",
    "E.g below are two most popular books from Project Gutenberg:\n",
    "- Pride and Prejudice at http://www.gutenberg.org/ebooks/1342.txt.utf-8\n",
    "- Adventures of Huckleberry Finn at http://www.gutenberg.org/ebooks/76.txt.utf-8"
   ]
  },
  {
   "cell_type": "code",
   "execution_count": 5,
   "metadata": {},
   "outputs": [],
   "source": [
    "import requests, re, nltk\n",
    "#In case your text is not on Project Gutenberg but at some other URL\n",
    "#http://www.fullbooks.com/Our-World-or-The-Slaveholders-Daughter2.html\n",
    "# that contains 12 parts\n",
    "t = \"\"\n",
    "for i in range(2,13):\n",
    "  r = requests .get('http://www.fullbooks.com/Our-World-or-The-Slaveholders-Daughter' + str(i) + '.html')\n",
    "  t = t + r.text"
   ]
  },
  {
   "cell_type": "code",
   "execution_count": 23,
   "metadata": {},
   "outputs": [
    {
     "data": {
      "text/plain": [
       "1323653"
      ]
     },
     "execution_count": 23,
     "metadata": {},
     "output_type": "execute_result"
    }
   ],
   "source": [
    "len(t)"
   ]
  },
  {
   "cell_type": "markdown",
   "metadata": {},
   "source": [
    "# Reddit Post Scraper\n",
    "\n",
    "Work Cited:\n",
    "Scraper https://towardsdatascience.com/how-to-use-the-reddit-api-in-python-5e05ddfd1e5c"
   ]
  },
  {
   "cell_type": "markdown",
   "metadata": {},
   "source": [
    "# Install Necessary Packages\n",
    "**Description:** I used a few external packages for my project to capture some data information.\n",
    "\n",
    "**Sources:**\n",
    "pytickersymbols - https://pypi.org/project/pytickersymbols/"
   ]
  },
  {
   "cell_type": "code",
   "execution_count": 9,
   "metadata": {},
   "outputs": [
    {
     "name": "stdout",
     "output_type": "stream",
     "text": [
      "Defaulting to user installation because normal site-packages is not writeable\n",
      "Collecting yahoo_fin\n",
      "  Downloading yahoo_fin-0.8.9.1-py3-none-any.whl (10 kB)\n",
      "Collecting feedparser\n",
      "  Downloading feedparser-6.0.10-py3-none-any.whl (81 kB)\n",
      "\u001b[2K     \u001b[90m━━━━━━━━━━━━━━━━━━━━━━━━━━━━━━━━━━━━━━━━\u001b[0m \u001b[32m81.1/81.1 kB\u001b[0m \u001b[31m4.8 MB/s\u001b[0m eta \u001b[36m0:00:00\u001b[0m\n",
      "\u001b[?25hCollecting requests-html\n",
      "  Downloading requests_html-0.10.0-py3-none-any.whl (13 kB)\n",
      "Requirement already satisfied: pandas in /usr/local/lib/python3.8/dist-packages (from yahoo_fin) (1.4.2)\n",
      "Requirement already satisfied: requests in /usr/local/lib/python3.8/dist-packages (from yahoo_fin) (2.27.1)\n",
      "Collecting sgmllib3k\n",
      "  Downloading sgmllib3k-1.0.0.tar.gz (5.8 kB)\n",
      "  Preparing metadata (setup.py) ... \u001b[?25ldone\n",
      "\u001b[?25hRequirement already satisfied: numpy>=1.18.5 in /usr/local/lib/python3.8/dist-packages (from pandas->yahoo_fin) (1.22.4)\n",
      "Requirement already satisfied: python-dateutil>=2.8.1 in /usr/local/lib/python3.8/dist-packages (from pandas->yahoo_fin) (2.8.2)\n",
      "Requirement already satisfied: pytz>=2020.1 in /usr/local/lib/python3.8/dist-packages (from pandas->yahoo_fin) (2022.1)\n",
      "Requirement already satisfied: urllib3<1.27,>=1.21.1 in /usr/lib/python3/dist-packages (from requests->yahoo_fin) (1.25.8)\n",
      "Requirement already satisfied: idna<4,>=2.5 in /usr/lib/python3/dist-packages (from requests->yahoo_fin) (2.8)\n",
      "Requirement already satisfied: certifi>=2017.4.17 in /usr/lib/python3/dist-packages (from requests->yahoo_fin) (2019.11.28)\n",
      "Requirement already satisfied: charset-normalizer~=2.0.0 in /usr/local/lib/python3.8/dist-packages (from requests->yahoo_fin) (2.0.12)\n",
      "Collecting pyquery\n",
      "  Downloading pyquery-1.4.3-py3-none-any.whl (22 kB)\n",
      "Collecting bs4\n",
      "  Downloading bs4-0.0.1.tar.gz (1.1 kB)\n",
      "  Preparing metadata (setup.py) ... \u001b[?25ldone\n",
      "\u001b[?25hCollecting parse\n",
      "  Downloading parse-1.19.0.tar.gz (30 kB)\n",
      "  Preparing metadata (setup.py) ... \u001b[?25ldone\n",
      "\u001b[?25hCollecting pyppeteer>=0.0.14\n",
      "  Downloading pyppeteer-1.0.2-py3-none-any.whl (83 kB)\n",
      "\u001b[2K     \u001b[90m━━━━━━━━━━━━━━━━━━━━━━━━━━━━━━━━━━━━━━━━\u001b[0m \u001b[32m83.4/83.4 kB\u001b[0m \u001b[31m13.3 MB/s\u001b[0m eta \u001b[36m0:00:00\u001b[0m\n",
      "\u001b[?25hCollecting w3lib\n",
      "  Downloading w3lib-2.0.1-py3-none-any.whl (20 kB)\n",
      "Collecting fake-useragent\n",
      "  Downloading fake-useragent-0.1.11.tar.gz (13 kB)\n",
      "  Preparing metadata (setup.py) ... \u001b[?25ldone\n",
      "\u001b[?25hCollecting appdirs<2.0.0,>=1.4.3\n",
      "  Downloading appdirs-1.4.4-py2.py3-none-any.whl (9.6 kB)\n",
      "Requirement already satisfied: importlib-metadata>=1.4 in /usr/local/lib/python3.8/dist-packages (from pyppeteer>=0.0.14->requests-html->yahoo_fin) (4.11.4)\n",
      "Collecting websockets<11.0,>=10.0\n",
      "  Downloading websockets-10.3-cp38-cp38-manylinux_2_5_x86_64.manylinux1_x86_64.manylinux_2_12_x86_64.manylinux2010_x86_64.whl (111 kB)\n",
      "\u001b[2K     \u001b[90m━━━━━━━━━━━━━━━━━━━━━━━━━━━━━━━━━━━━━━\u001b[0m \u001b[32m111.3/111.3 kB\u001b[0m \u001b[31m13.2 MB/s\u001b[0m eta \u001b[36m0:00:00\u001b[0m\n",
      "\u001b[?25hCollecting pyee<9.0.0,>=8.1.0\n",
      "  Downloading pyee-8.2.2-py2.py3-none-any.whl (12 kB)\n",
      "Requirement already satisfied: tqdm<5.0.0,>=4.42.1 in /usr/local/lib/python3.8/dist-packages (from pyppeteer>=0.0.14->requests-html->yahoo_fin) (4.64.0)\n",
      "Collecting certifi>=2017.4.17\n",
      "  Downloading certifi-2022.6.15.1-py3-none-any.whl (160 kB)\n",
      "\u001b[2K     \u001b[90m━━━━━━━━━━━━━━━━━━━━━━━━━━━━━━━━━━━━━━\u001b[0m \u001b[32m160.4/160.4 kB\u001b[0m \u001b[31m19.3 MB/s\u001b[0m eta \u001b[36m0:00:00\u001b[0m\n",
      "\u001b[?25hRequirement already satisfied: six>=1.5 in /usr/lib/python3/dist-packages (from python-dateutil>=2.8.1->pandas->yahoo_fin) (1.14.0)\n",
      "Requirement already satisfied: beautifulsoup4 in /usr/local/lib/python3.8/dist-packages (from bs4->requests-html->yahoo_fin) (4.11.1)\n",
      "Requirement already satisfied: lxml>=2.1 in /home/elidberb/.local/lib/python3.8/site-packages (from pyquery->requests-html->yahoo_fin) (4.9.1)\n",
      "Collecting cssselect>0.7.9\n",
      "  Downloading cssselect-1.1.0-py2.py3-none-any.whl (16 kB)\n",
      "Requirement already satisfied: zipp>=0.5 in /usr/local/lib/python3.8/dist-packages (from importlib-metadata>=1.4->pyppeteer>=0.0.14->requests-html->yahoo_fin) (3.8.0)\n",
      "Requirement already satisfied: soupsieve>1.2 in /usr/local/lib/python3.8/dist-packages (from beautifulsoup4->bs4->requests-html->yahoo_fin) (2.3.2.post1)\n",
      "Building wheels for collected packages: bs4, fake-useragent, parse, sgmllib3k\n",
      "  Building wheel for bs4 (setup.py) ... \u001b[?25ldone\n",
      "\u001b[?25h  Created wheel for bs4: filename=bs4-0.0.1-py3-none-any.whl size=1273 sha256=403d677a09cf2ab0bde9e4d5bd600e181cbd81368419ebeda6452dc1ca20b4d5\n",
      "  Stored in directory: /home/elidberb/.cache/pip/wheels/75/78/21/68b124549c9bdc94f822c02fb9aa3578a669843f9767776bca\n",
      "  Building wheel for fake-useragent (setup.py) ... \u001b[?25ldone\n",
      "\u001b[?25h  Created wheel for fake-useragent: filename=fake_useragent-0.1.11-py3-none-any.whl size=13486 sha256=69f70dc9502855a314e48a23b9d3225800c0db383b2bb469e712049477cdbbe8\n",
      "  Stored in directory: /home/elidberb/.cache/pip/wheels/a0/b8/b7/8c942b2c5be5158b874a88195116b05ad124bac795f6665e65\n",
      "  Building wheel for parse (setup.py) ... \u001b[?25ldone\n",
      "\u001b[?25h  Created wheel for parse: filename=parse-1.19.0-py3-none-any.whl size=24581 sha256=e068bfd59de7c907a4de0eb5492cbc43d13e71ccc1a4e3b71bad5258edcbd3bc\n",
      "  Stored in directory: /home/elidberb/.cache/pip/wheels/e5/33/1f/68392720485b3ecf125a69e700baaab7624616deedea2fa6e2\n",
      "  Building wheel for sgmllib3k (setup.py) ... \u001b[?25ldone\n",
      "\u001b[?25h  Created wheel for sgmllib3k: filename=sgmllib3k-1.0.0-py3-none-any.whl size=6066 sha256=73ba60be539af04a774e148ae67276094a5ac3224db8cc9432bb8f96e799269c\n",
      "  Stored in directory: /home/elidberb/.cache/pip/wheels/83/63/2f/117884c3b19d46b64d3d61690333aa80c88dc14050e269c546\n",
      "Successfully built bs4 fake-useragent parse sgmllib3k\n",
      "Installing collected packages: sgmllib3k, pyee, parse, fake-useragent, appdirs, websockets, w3lib, feedparser, cssselect, certifi, pyquery, pyppeteer, bs4, requests-html, yahoo_fin\n",
      "\u001b[33m  WARNING: The script pyppeteer-install is installed in '/home/elidberb/.local/bin' which is not on PATH.\n",
      "  Consider adding this directory to PATH or, if you prefer to suppress this warning, use --no-warn-script-location.\u001b[0m\u001b[33m\n",
      "\u001b[0mSuccessfully installed appdirs-1.4.4 bs4-0.0.1 certifi-2022.6.15.1 cssselect-1.1.0 fake-useragent-0.1.11 feedparser-6.0.10 parse-1.19.0 pyee-8.2.2 pyppeteer-1.0.2 pyquery-1.4.3 requests-html-0.10.0 sgmllib3k-1.0.0 w3lib-2.0.1 websockets-10.3 yahoo_fin-0.8.9.1\n",
      "\u001b[33mWARNING: There was an error checking the latest version of pip.\u001b[0m\u001b[33m\n",
      "\u001b[0mNote: you may need to restart the kernel to use updated packages.\n"
     ]
    }
   ],
   "source": [
    "#Install Packages\n",
    "%pip install pytickersymbols"
   ]
  },
  {
   "cell_type": "markdown",
   "metadata": {},
   "source": [
    "# Create an access token\n",
    "\n",
    "**Description**: This cell handles setting up an access token with Reddit's API, so that I can gather posts, comments, and other information from Reddit. I have replaced my personal information with placeholder's for privacy. If you would like to use this cell, please go to https://www.reddit.com/prefs/apps, and create an application. More information on how to do this can be found at https://towardsdatascience.com/how-to-use-the-reddit-api-in-python-5e05ddfd1e5c."
   ]
  },
  {
   "cell_type": "code",
   "execution_count": null,
   "metadata": {},
   "outputs": [],
   "source": [
    "# import requests\n",
    "\n",
    "# #Create a variable with the authorization information for your application.\n",
    "# auth = requests.auth.HTTPBasicAuth('<secret>', '<personal_use_script>')\n",
    "\n",
    "# # Create a variable with your user credentials\n",
    "# data = {'grant_type': 'password',\n",
    "#         'username': '<reddit_username>',\n",
    "#         'password': '<reddit_password>'}\n",
    "\n",
    "# # Headers includes the application you would like to use and other important information\n",
    "# headers = {'User-Agent': '<name_of_application>'}\n",
    "\n",
    "# # Post request for an OAuth token\n",
    "# res = requests.post('https://www.reddit.com/api/v1/access_token',\n",
    "#                     auth=auth, data=data, headers=headers)\n",
    "\n",
    "# #Print information related to your access token in JSON format\n",
    "# print(res.json())\n",
    "\n",
    "# # Get your bearer access token\n",
    "# TOKEN = res.json()['access_token']\n",
    "\n",
    "# # add bearer token to our headers dictionary\n",
    "# headers = {**headers, **{'Authorization': f\"bearer {TOKEN}\"}}\n",
    "# requests.get('https://oauth.reddit.com/api/v1/me', headers=headers)"
   ]
  },
  {
   "cell_type": "code",
   "execution_count": null,
   "metadata": {},
   "outputs": [],
   "source": []
  },
  {
   "cell_type": "markdown",
   "metadata": {},
   "source": [
    "# Get posts from WallStreetBets\n",
    "**Description**: This cell handles gathering the most recent posts from the subreddit WallStreetBets. I do not provide a limit in the request, so the response returns 25 posts in this request. This can be raised to a maximum of 100, as shown below. **Please note that I have commented out the print statement, and I have not shown the result for privacy purposes because I was not sure if the JSON contained any private information.** Feel free to uncomment the statement and run the cell locally to test and see the results."
   ]
  },
  {
   "cell_type": "code",
   "execution_count": 116,
   "metadata": {},
   "outputs": [],
   "source": [
    "#Single GET request for posts in WallStreetBets\n",
    "response = requests.get(\"https://oauth.reddit.com/r/wallstreetbets/new\",\n",
    "                   headers=headers)\n",
    "\n",
    "#Show the results from a single response\n",
    "#print(response.json())"
   ]
  },
  {
   "cell_type": "markdown",
   "metadata": {},
   "source": [
    "# Converting the response to a Pandas DataFrame\n",
    "**Description:** This cell contains the function `ResultToDataFrame()` which handles converting the messy JSON returned from the endpoint to a Pandas dataframe with only the information that I care about.\n",
    "\n",
    "**Work Cited:** https://towardsdatascience.com/how-to-use-the-reddit-api-in-python-5e05ddfd1e5c"
   ]
  },
  {
   "cell_type": "code",
   "execution_count": 126,
   "metadata": {},
   "outputs": [],
   "source": [
    "import pandas as pd\n",
    "from datetime import datetime\n",
    "# loop through each post retrieved from GET request\n",
    "def ResultToDataFrame(result):\n",
    "    totals_df = pd.DataFrame()  # initialize dataframe\n",
    "    row_df = pd.DataFrame()\n",
    "    \n",
    "    #Loop through each post's information in the JSON and save relevant info\n",
    "    for i,post in enumerate(result.json()['data']['children']):\n",
    "        # concat relevant data to dataframe\n",
    "        row_df = pd.DataFrame({\n",
    "            'subreddit': post['data']['subreddit'],\n",
    "            'title': post['data']['title'],\n",
    "            'selftext': post['data']['selftext'],\n",
    "            'upvote_ratio': post['data']['upvote_ratio'],\n",
    "            'ups': post['data']['ups'],\n",
    "            'downs': post['data']['downs'],\n",
    "            'score': post['data']['score'],\n",
    "            'created_utc': datetime.fromtimestamp(post['data']['created_utc']).strftime('%Y-%m-%dT%H:%M:%SZ'),\n",
    "            'id': post['data']['id'],\n",
    "            'kind': post['kind']\n",
    "        }, index=[i])\n",
    "        totals_df = pd.concat([totals_df, row_df])\n",
    "\n",
    "    return totals_df"
   ]
  },
  {
   "cell_type": "markdown",
   "metadata": {},
   "source": [
    "# Ratelimit Awareness\n",
    "**Description:** It is important to pay attention to the number of requests that you have made. Reddit allows users that use the API to make 600 requests every 10 minutes (1 request/sec). This cell contains the function `print_ratelimit` which gives the user information about how many requests they have used and how many requests they can make in the remaining time for that given 10-minute period.\n",
    "\n",
    "**Work Cited**: https://gist.github.com/andrewjbennett/0267c0599a4a839209781bae8877379e -- This link is a bit out-of-date, so just keep that in mind."
   ]
  },
  {
   "cell_type": "code",
   "execution_count": 141,
   "metadata": {},
   "outputs": [],
   "source": [
    "#Takes in your response object and parses the headers for ratelimit information\n",
    "def print_ratelimit(response):\n",
    "    #Variables that are acquired from parsing the reponse header information\n",
    "    requests_remaining = response.headers[\"x-ratelimit-remaining\"]\n",
    "    request_limit = float(response.headers[\"x-ratelimit-remaining\"]) + float(response.headers['x-ratelimit-used'])\n",
    "    reset = int(response.headers[\"x-ratelimit-reset\"])\n",
    "    requests_used = response.headers['x-ratelimit-used']\n",
    "    \n",
    "    #Handles parsing the seconds left and writes it in minute:second format\n",
    "    mins_left, secs_left = divmod(reset, 60)#, ratelimit[\"reset\"]\n",
    "    \n",
    "    #Prints information for the user\n",
    "    print(f\"You have used {requests_used}.0 request.\")\n",
    "    print(\"You have %s out of %s remaining requests left.\\nThis resets in %d:%02d\\n\" % (requests_remaining, request_limit, mins_left, secs_left))"
   ]
  },
  {
   "cell_type": "markdown",
   "metadata": {},
   "source": [
    "# Test the RateLimit Information Cell\n",
    "**Description:** Assuming that you have made a single request to Reddit's API, you will see the following information:"
   ]
  },
  {
   "cell_type": "code",
   "execution_count": 431,
   "metadata": {},
   "outputs": [
    {
     "name": "stdout",
     "output_type": "stream",
     "text": [
      "You have used 1.0 request.\n",
      "You have 599.0 out of 600.0 remaining requests left.\n",
      "This resets in 4:34\n",
      "\n"
     ]
    }
   ],
   "source": [
    "print_ratelimit(response)"
   ]
  },
  {
   "cell_type": "markdown",
   "metadata": {},
   "source": [
    "# Create a list of Stock Symbols (Tickers)\n",
    "**Description:** This was the best way I could find to capture a list of publically traded stock symbols. A stock symbol is a set of letters that represents a particular stock. It is possible that there are other stock mentioned in posts, titles, and comments; however, this captures the majority. \n",
    "\n",
    "**Work Cited:** https://pypi.org/project/pytickersymbols/"
   ]
  },
  {
   "cell_type": "code",
   "execution_count": 166,
   "metadata": {},
   "outputs": [
    {
     "name": "stdout",
     "output_type": "stream",
     "text": [
      "There are 1230 in the list of stock\n"
     ]
    },
    {
     "data": {
      "text/html": [
       "<div>\n",
       "<style scoped>\n",
       "    .dataframe tbody tr th:only-of-type {\n",
       "        vertical-align: middle;\n",
       "    }\n",
       "\n",
       "    .dataframe tbody tr th {\n",
       "        vertical-align: top;\n",
       "    }\n",
       "\n",
       "    .dataframe thead th {\n",
       "        text-align: right;\n",
       "    }\n",
       "</style>\n",
       "<table border=\"1\" class=\"dataframe\">\n",
       "  <thead>\n",
       "    <tr style=\"text-align: right;\">\n",
       "      <th></th>\n",
       "      <th>name</th>\n",
       "      <th>symbol</th>\n",
       "      <th>country</th>\n",
       "      <th>indices</th>\n",
       "      <th>industries</th>\n",
       "      <th>symbols</th>\n",
       "      <th>metadata</th>\n",
       "      <th>isins</th>\n",
       "      <th>wiki_name</th>\n",
       "    </tr>\n",
       "  </thead>\n",
       "  <tbody>\n",
       "    <tr>\n",
       "      <th>0</th>\n",
       "      <td>adidas AG</td>\n",
       "      <td>ADS</td>\n",
       "      <td>Germany</td>\n",
       "      <td>[DAX, EURO STOXX 50]</td>\n",
       "      <td>[Cyclical Consumer Products, Footwear, Textile...</td>\n",
       "      <td>[{'yahoo': 'ADS.F', 'google': 'FRA:ADS', 'curr...</td>\n",
       "      <td>{'founded': 1924, 'employees': 57016}</td>\n",
       "      <td>[DE000A1EWWW0]</td>\n",
       "      <td>NaN</td>\n",
       "    </tr>\n",
       "    <tr>\n",
       "      <th>1</th>\n",
       "      <td>Allianz SE</td>\n",
       "      <td>ALV</td>\n",
       "      <td>Germany</td>\n",
       "      <td>[DAX, EURO STOXX 50]</td>\n",
       "      <td>[Insurance, Financials, Multiline Insurance &amp; ...</td>\n",
       "      <td>[{'yahoo': 'ALV.F', 'google': 'FRA:ALV', 'curr...</td>\n",
       "      <td>{'founded': 1890, 'employees': 147268}</td>\n",
       "      <td>[DE0008404005]</td>\n",
       "      <td>NaN</td>\n",
       "    </tr>\n",
       "    <tr>\n",
       "      <th>2</th>\n",
       "      <td>BASF SE</td>\n",
       "      <td>BAS</td>\n",
       "      <td>Germany</td>\n",
       "      <td>[DAX, EURO STOXX 50]</td>\n",
       "      <td>[Diversified Chemicals, Basic Materials, Chemi...</td>\n",
       "      <td>[{'yahoo': 'BAS.F', 'google': 'FRA:BAS', 'curr...</td>\n",
       "      <td>{'founded': 1865, 'employees': 117628}</td>\n",
       "      <td>[DE000BASF111]</td>\n",
       "      <td>NaN</td>\n",
       "    </tr>\n",
       "    <tr>\n",
       "      <th>3</th>\n",
       "      <td>Bayer AG</td>\n",
       "      <td>BAYN</td>\n",
       "      <td>Germany</td>\n",
       "      <td>[DAX, EURO STOXX 50]</td>\n",
       "      <td>[Pharmaceuticals, Pharmaceuticals &amp; Medical Re...</td>\n",
       "      <td>[{'yahoo': 'BAYN.F', 'google': 'FRA:BAYN', 'cu...</td>\n",
       "      <td>{'founded': 1863, 'employees': 103824}</td>\n",
       "      <td>[DE000BAY0017]</td>\n",
       "      <td>NaN</td>\n",
       "    </tr>\n",
       "    <tr>\n",
       "      <th>4</th>\n",
       "      <td>Beiersdorf AG</td>\n",
       "      <td>BEI</td>\n",
       "      <td>Germany</td>\n",
       "      <td>[DAX]</td>\n",
       "      <td>[Consumer Non-Cyclicals, Personal Products, Pe...</td>\n",
       "      <td>[{'yahoo': 'BEI.F', 'google': 'FRA:BEI', 'curr...</td>\n",
       "      <td>{'founded': 1882, 'employees': 20306}</td>\n",
       "      <td>[DE0005200000]</td>\n",
       "      <td>NaN</td>\n",
       "    </tr>\n",
       "  </tbody>\n",
       "</table>\n",
       "</div>"
      ],
      "text/plain": [
       "            name symbol  country               indices  \\\n",
       "0      adidas AG    ADS  Germany  [DAX, EURO STOXX 50]   \n",
       "1     Allianz SE    ALV  Germany  [DAX, EURO STOXX 50]   \n",
       "2        BASF SE    BAS  Germany  [DAX, EURO STOXX 50]   \n",
       "3       Bayer AG   BAYN  Germany  [DAX, EURO STOXX 50]   \n",
       "4  Beiersdorf AG    BEI  Germany                 [DAX]   \n",
       "\n",
       "                                          industries  \\\n",
       "0  [Cyclical Consumer Products, Footwear, Textile...   \n",
       "1  [Insurance, Financials, Multiline Insurance & ...   \n",
       "2  [Diversified Chemicals, Basic Materials, Chemi...   \n",
       "3  [Pharmaceuticals, Pharmaceuticals & Medical Re...   \n",
       "4  [Consumer Non-Cyclicals, Personal Products, Pe...   \n",
       "\n",
       "                                             symbols  \\\n",
       "0  [{'yahoo': 'ADS.F', 'google': 'FRA:ADS', 'curr...   \n",
       "1  [{'yahoo': 'ALV.F', 'google': 'FRA:ALV', 'curr...   \n",
       "2  [{'yahoo': 'BAS.F', 'google': 'FRA:BAS', 'curr...   \n",
       "3  [{'yahoo': 'BAYN.F', 'google': 'FRA:BAYN', 'cu...   \n",
       "4  [{'yahoo': 'BEI.F', 'google': 'FRA:BEI', 'curr...   \n",
       "\n",
       "                                 metadata           isins wiki_name  \n",
       "0   {'founded': 1924, 'employees': 57016}  [DE000A1EWWW0]       NaN  \n",
       "1  {'founded': 1890, 'employees': 147268}  [DE0008404005]       NaN  \n",
       "2  {'founded': 1865, 'employees': 117628}  [DE000BASF111]       NaN  \n",
       "3  {'founded': 1863, 'employees': 103824}  [DE000BAY0017]       NaN  \n",
       "4   {'founded': 1882, 'employees': 20306}  [DE0005200000]       NaN  "
      ]
     },
     "metadata": {},
     "output_type": "display_data"
    },
    {
     "name": "stdout",
     "output_type": "stream",
     "text": [
      "Here is the first 10 Symbols: ['ADS', 'ALV', 'BAS', 'BAYN', 'BEI', 'BMW', 'CON', '1COV', 'DAI', 'DBK']\n"
     ]
    }
   ],
   "source": [
    "from pytickersymbols import PyTickerSymbols\n",
    "\n",
    "#Use external library and declare variables\n",
    "stock_data = PyTickerSymbols()\n",
    "all_stocks = stock_data.get_all_stocks()\n",
    "stocks_df = pd.DataFrame(all_stocks)\n",
    "list_of_stocks = []\n",
    "\n",
    "print(f\"There are {len(all_stocks)} in the list of stock\")\n",
    "display(stocks_df.head())\n",
    "\n",
    "\n",
    "#Iterate through all stocks and append symbol to a list\n",
    "for i in all_stocks:\n",
    "    list_of_stocks.append(i['symbol'])\n",
    "\n",
    "print(f\"Here is the first 10 Symbols: {list_of_stocks[:10]}\")"
   ]
  },
  {
   "cell_type": "markdown",
   "metadata": {},
   "source": [
    "# Gathering all the posts from a Subreddit\n",
    "**Description:** `gather_data_from_subreddit` takes two arguments `subreddit` and `category` and returns a Pandas DataFrame with the compilation of posts gathered from multiple requests to the subreddit API (https://www.reddit.com/dev/api/). I was only able to gather about ~900 posts from the \"new\" category within each subreddit, ~300 posts from the \"hot\" category, and ~20-100 posts from the \"top\" category. This is because Reddit only allows you to get the 1000th post within a subreddit (https://www.reddit.com/r/redditdev/comments/d4w65t/why_cant_i_access_any_post_past_the_1000th_post/). I might use a 3rd party service like https://pushshift.io/ to gather more posts; however, I did not think it was necessary for this project. I was able to gather enough data to make some interesting analysis.\n",
    "\n",
    "**Work Cited:** https://towardsdatascience.com/how-to-use-the-reddit-api-in-python-5e05ddfd1e5c -- Please note that I used this as a reference to make multiple requests, but changed it to match my needs."
   ]
  },
  {
   "cell_type": "code",
   "execution_count": 122,
   "metadata": {},
   "outputs": [],
   "source": [
    "import time\n",
    "\n",
    "'''\n",
    "    Takes a subreddit and category (top, hot, new),\n",
    "    produces a csv, and returns a pandas DataFrame\n",
    "'''\n",
    "def gather_data_from_subreddit(subreddit, category):\n",
    "    #Sets the limit to 100, so that I can get 100 posts in each request\n",
    "    params = {'limit': 100}\n",
    "    \n",
    "    #Creates two dataframes and save variables\n",
    "    All_Posts_df = pd.DataFrame()\n",
    "    new_df = pd.DataFrame()\n",
    "    save_last_post = \"\"\n",
    "    save_date = \"\"\n",
    "\n",
    "    #Loop until the response doesn't return values\n",
    "    while(new_df.shape[0] > 0 or All_Posts_df.shape[0] == 0):\n",
    "        \n",
    "        # make a request to the subreddit fed through the arguments, sorting by the category\n",
    "        res = requests.get(f\"https://oauth.reddit.com/r/{subreddit}/{category}\",\n",
    "                           headers=headers,\n",
    "                           params=params)\n",
    "\n",
    "        # Feed the response to our function defined above, and get the DataFrame\n",
    "        new_df = ResultToDataFrame(res)\n",
    "        \n",
    "        #If the DataFrame is empty, break from the loop\n",
    "        if(not len(new_df) > 0):\n",
    "            break\n",
    "\n",
    "        # Get the last row from the dataframe\n",
    "        last_row = new_df.iloc[len(new_df)-1]\n",
    "\n",
    "        #This is used to make a request for the information after our last post\n",
    "        last_post = last_row['kind'] + '_' + last_row['id']\n",
    "\n",
    "        #For saving the last post captured and its corresponding date\n",
    "        save_last_post = last_post\n",
    "        save_date = f\"{last_row['created_utc']}\"\n",
    "\n",
    "        # update params for new api call\n",
    "        params['after'] = last_post\n",
    "\n",
    "        #Concat DataFrame created from api to the dataframe with all the current posts\n",
    "        All_Posts_df = pd.concat([All_Posts_df, new_df])\n",
    "\n",
    "        #Print the shape to give users updates on how many posts have been grabbed\n",
    "        print(All_Posts_df.shape[0])\n",
    "        \n",
    "    #Make a CSV with a name based on the size, category, and subreddit\n",
    "    All_Posts_df.to_csv(f'{All_Posts_df.shape[0]}_{category}_Posts_From_{subreddit}.csv', encoding='utf-8')\n",
    "    return All_Posts_df"
   ]
  },
  {
   "cell_type": "markdown",
   "metadata": {},
   "source": [
    "# Example of data from r/Games\n"
   ]
  },
  {
   "cell_type": "code",
   "execution_count": 127,
   "metadata": {},
   "outputs": [
    {
     "name": "stdout",
     "output_type": "stream",
     "text": [
      "100\n",
      "200\n",
      "300\n",
      "400\n",
      "500\n",
      "600\n",
      "700\n",
      "749\n"
     ]
    },
    {
     "data": {
      "text/html": [
       "<div>\n",
       "<style scoped>\n",
       "    .dataframe tbody tr th:only-of-type {\n",
       "        vertical-align: middle;\n",
       "    }\n",
       "\n",
       "    .dataframe tbody tr th {\n",
       "        vertical-align: top;\n",
       "    }\n",
       "\n",
       "    .dataframe thead th {\n",
       "        text-align: right;\n",
       "    }\n",
       "</style>\n",
       "<table border=\"1\" class=\"dataframe\">\n",
       "  <thead>\n",
       "    <tr style=\"text-align: right;\">\n",
       "      <th></th>\n",
       "      <th>subreddit</th>\n",
       "      <th>title</th>\n",
       "      <th>selftext</th>\n",
       "      <th>upvote_ratio</th>\n",
       "      <th>ups</th>\n",
       "      <th>downs</th>\n",
       "      <th>score</th>\n",
       "      <th>created_utc</th>\n",
       "      <th>id</th>\n",
       "      <th>kind</th>\n",
       "    </tr>\n",
       "  </thead>\n",
       "  <tbody>\n",
       "    <tr>\n",
       "      <th>0</th>\n",
       "      <td>Games</td>\n",
       "      <td>DNF Duel is in trouble and something needs to ...</td>\n",
       "      <td></td>\n",
       "      <td>0.63</td>\n",
       "      <td>2</td>\n",
       "      <td>0</td>\n",
       "      <td>2</td>\n",
       "      <td>2022-09-12T02:43:20Z</td>\n",
       "      <td>xc17g1</td>\n",
       "      <td>t3</td>\n",
       "    </tr>\n",
       "    <tr>\n",
       "      <th>1</th>\n",
       "      <td>Games</td>\n",
       "      <td>physics based game to teach physics</td>\n",
       "      <td>I saw a side-by-side video of a kid watching a...</td>\n",
       "      <td>0.06</td>\n",
       "      <td>0</td>\n",
       "      <td>0</td>\n",
       "      <td>0</td>\n",
       "      <td>2022-09-12T01:18:18Z</td>\n",
       "      <td>xbzfy1</td>\n",
       "      <td>t3</td>\n",
       "    </tr>\n",
       "    <tr>\n",
       "      <th>2</th>\n",
       "      <td>Games</td>\n",
       "      <td>Harvest Island - YobobGames - A story driven f...</td>\n",
       "      <td>**Game:** Harvest Island\\n\\n**Release:** Early...</td>\n",
       "      <td>0.55</td>\n",
       "      <td>2</td>\n",
       "      <td>0</td>\n",
       "      <td>2</td>\n",
       "      <td>2022-09-12T00:09:21Z</td>\n",
       "      <td>xbxznm</td>\n",
       "      <td>t3</td>\n",
       "    </tr>\n",
       "    <tr>\n",
       "      <th>3</th>\n",
       "      <td>Games</td>\n",
       "      <td>Disney Dreamlight Valley - Review Thread</td>\n",
       "      <td>\\nGame Information\\n--------------------\\n\\n**...</td>\n",
       "      <td>0.88</td>\n",
       "      <td>194</td>\n",
       "      <td>0</td>\n",
       "      <td>194</td>\n",
       "      <td>2022-09-11T21:40:40Z</td>\n",
       "      <td>xbulr0</td>\n",
       "      <td>t3</td>\n",
       "    </tr>\n",
       "    <tr>\n",
       "      <th>4</th>\n",
       "      <td>Games</td>\n",
       "      <td>Shifter - Ilta Games - a third-person rogue-li...</td>\n",
       "      <td>Hi. I've been working on this game for 2 years...</td>\n",
       "      <td>0.73</td>\n",
       "      <td>27</td>\n",
       "      <td>0</td>\n",
       "      <td>27</td>\n",
       "      <td>2022-09-11T20:03:06Z</td>\n",
       "      <td>xbs61n</td>\n",
       "      <td>t3</td>\n",
       "    </tr>\n",
       "  </tbody>\n",
       "</table>\n",
       "</div>"
      ],
      "text/plain": [
       "  subreddit                                              title  \\\n",
       "0     Games  DNF Duel is in trouble and something needs to ...   \n",
       "1     Games                physics based game to teach physics   \n",
       "2     Games  Harvest Island - YobobGames - A story driven f...   \n",
       "3     Games           Disney Dreamlight Valley - Review Thread   \n",
       "4     Games  Shifter - Ilta Games - a third-person rogue-li...   \n",
       "\n",
       "                                            selftext  upvote_ratio  ups  \\\n",
       "0                                                             0.63    2   \n",
       "1  I saw a side-by-side video of a kid watching a...          0.06    0   \n",
       "2  **Game:** Harvest Island\\n\\n**Release:** Early...          0.55    2   \n",
       "3  \\nGame Information\\n--------------------\\n\\n**...          0.88  194   \n",
       "4  Hi. I've been working on this game for 2 years...          0.73   27   \n",
       "\n",
       "   downs  score           created_utc      id kind  \n",
       "0      0      2  2022-09-12T02:43:20Z  xc17g1   t3  \n",
       "1      0      0  2022-09-12T01:18:18Z  xbzfy1   t3  \n",
       "2      0      2  2022-09-12T00:09:21Z  xbxznm   t3  \n",
       "3      0    194  2022-09-11T21:40:40Z  xbulr0   t3  \n",
       "4      0     27  2022-09-11T20:03:06Z  xbs61n   t3  "
      ]
     },
     "execution_count": 127,
     "metadata": {},
     "output_type": "execute_result"
    }
   ],
   "source": [
    "returned_df = gather_data_from_subreddit(\"Games\", \"new\")\n",
    "returned_df.head(5)"
   ]
  },
  {
   "cell_type": "code",
   "execution_count": 425,
   "metadata": {},
   "outputs": [],
   "source": [
    "known = []\n",
    "def checkIfDuplicates_3(listOfElems):\n",
    "    ''' Check if given list contains any duplicates '''    \n",
    "    for i, elem in enumerate(listOfElems):\n",
    "        if not elem == '' and not elem in known:\n",
    "            if listOfElems.count(elem) > 1:\n",
    "                print(elem)\n",
    "                known.append(elem)\n",
    "    return False\n",
    "#print(checkIfDuplicates_3(list(All_Posts_df['selftext'])))\n",
    "#print(list(All_Posts_df['title']).count('Ray Dalio: \"People DON’T KNOW What’s Coming\" | Davos 2022 | #WEF22'))"
   ]
  },
  {
   "cell_type": "code",
   "execution_count": 418,
   "metadata": {},
   "outputs": [],
   "source": [
    "#print(list(All_Posts_df['selftext']))"
   ]
  },
  {
   "cell_type": "code",
   "execution_count": 274,
   "metadata": {},
   "outputs": [
    {
     "name": "stdout",
     "output_type": "stream",
     "text": [
      "t3_x4wuno\n",
      "2022-09-03T15:17:58Z\n"
     ]
    },
    {
     "data": {
      "text/plain": [
       "932"
      ]
     },
     "execution_count": 274,
     "metadata": {},
     "output_type": "execute_result"
    }
   ],
   "source": [
    "#All_Posts_df.head(6)\n",
    "print(save_last_post)\n",
    "print(save_date)\n",
    "All_Posts_df.shape[0]\n"
   ]
  },
  {
   "cell_type": "code",
   "execution_count": 272,
   "metadata": {},
   "outputs": [
    {
     "data": {
      "text/plain": [
       "0"
      ]
     },
     "execution_count": 272,
     "metadata": {},
     "output_type": "execute_result"
    }
   ],
   "source": [
    "All_Posts_df2.shape[0]"
   ]
  },
  {
   "cell_type": "code",
   "execution_count": 372,
   "metadata": {},
   "outputs": [
    {
     "data": {
      "text/plain": [
       "subreddit                        wallstreetbets\n",
       "title                   Lost my life savings 😁👍\n",
       "selftext                                       \n",
       "upvote_ratio                               0.87\n",
       "ups                                       13236\n",
       "downs                                         0\n",
       "score                                     13236\n",
       "link_flair_css_class                       loss\n",
       "created_utc                2022-09-10T19:48:07Z\n",
       "id                                       xay9c0\n",
       "kind                                         t3\n",
       "Name: 1, dtype: object"
      ]
     },
     "execution_count": 372,
     "metadata": {},
     "output_type": "execute_result"
    }
   ],
   "source": [
    "All_Posts_df.iloc[101]"
   ]
  },
  {
   "cell_type": "code",
   "execution_count": 164,
   "metadata": {},
   "outputs": [
    {
     "data": {
      "image/png": "[encoded data removed]",
      "text/plain": [
       "<Figure size 720x432 with 3 Axes>"
      ]
     },
     "metadata": {},
     "output_type": "display_data"
    },
    {
     "data": {
      "image/png": "[encoded data removed]",
      "text/plain": [
       "<Figure size 720x432 with 3 Axes>"
      ]
     },
     "metadata": {},
     "output_type": "display_data"
    }
   ],
   "source": [
    "import math\n",
    "import requests, re\n",
    "import operator\n",
    "import pandas as pd\n",
    "#DataFrame read from csv\n",
    "hot_df = pd.read_csv('926_new_Posts_From_Investing.csv')\n",
    "stop_words = nltk.corpus.stopwords.words('english') + [\n",
    " 'ut', '\\'re','.', ',', '--', '\\'s', '?', ')', '(', ':', '\\'',\n",
    " '\\\"', '-', '}', '{', '&', '|', u'\\u2014', '*' ]\n",
    "wf = {}\n",
    "stock_dict = {}\n",
    "for i in hot_df['selftext']:\n",
    "    i = str(i)\n",
    "\n",
    "    if len(i) != 0 and i != \"nan\" and \"**User Report**\" not in i:\n",
    "        wds = re.split('\\s+', i)\n",
    "\n",
    "        for w in wds:\n",
    "            if w =='&amp;#x200B;':\n",
    "                continue\n",
    "            if w in list_of_stocks and w != \"A\" and w != \"AI\":\n",
    "                if w in stock_dict: stock_dict [w] = stock_dict [w] + 1\n",
    "                else:  stock_dict[w] = 1\n",
    "            if not w.lower() in stop_words:\n",
    "                if w in wf: wf [w] = wf [w] + 1\n",
    "                else:  wf[w] = 1\n",
    "\n",
    "# dictionaries can not be sorted, so lets get a sorted *list*        \n",
    "wfs = sorted (wf .items(), key = operator .itemgetter (1), reverse=True)   \n",
    "ml = min(len(wfs),15)\n",
    "\n",
    "hot_df2 = pd.read_csv('943_new_Posts_From_Stocks.csv')\n",
    "stop_words = nltk.corpus.stopwords.words('english') + [\n",
    " 'ut', '\\'re','.', ',', '--', '\\'s', '?', ')', '(', ':', '\\'',\n",
    " '\\\"', '-', '}', '{', '&', '|', u'\\u2014', '*' ]\n",
    "wf2 = {}\n",
    "stock_dict2 = {}\n",
    "for i in hot_df2['selftext']:\n",
    "    i = str(i)\n",
    "\n",
    "    if len(i) != 0 and i != \"nan\" and \"**User Report**\" not in i:\n",
    "        wds = re.split('\\s+', i)\n",
    "\n",
    "        for w in wds:\n",
    "            if w == '&amp;#x200B;' or \"*\" in w:\n",
    "                continue\n",
    "            if w in list_of_stocks and w != \"A\" and w != \"AI\":\n",
    "                if w in stock_dict2: stock_dict2 [w] = stock_dict2 [w] + 1\n",
    "                else:  stock_dict2[w] = 1\n",
    "            if not w.lower() in stop_words:\n",
    "                if w in wf2: wf2 [w] = wf2 [w] + 1\n",
    "                else:  wf2[w] = 1\n",
    "\n",
    "# dictionaries can not be sorted, so lets get a sorted *list*        \n",
    "wfs2 = sorted (wf2 .items(), key = operator .itemgetter (1), reverse=True)   \n",
    "m2 = min(len(wfs2),15)\n",
    "\n",
    "\n",
    "stock_dict_sorted = sorted (stock_dict .items(), key = operator .itemgetter (1), reverse=True) \n",
    "stock_dict_sorted2 = sorted (stock_dict2 .items(), key = operator .itemgetter (1), reverse=True) \n",
    "m3 = min(len(stock_dict_sorted),6)\n",
    "m4 = min(len(stock_dict_sorted2),6)\n",
    "\n",
    "wfs2 = sorted (wf2 .items(), key = operator .itemgetter (1), reverse=True) \n",
    "a = wfs [ 1:ml ][::-1]\n",
    "b = wfs2 [ 1:m2 ][::-1]\n",
    "c = stock_dict_sorted [ 0:m3 ][::-1]\n",
    "d = stock_dict_sorted2 [ 0:m4 ][::-1]\n",
    "\n",
    "\n",
    "plotTwoLists (a, b, 'Difference in Common Words Used between r/WallStreetBets and r/Investing')\n",
    "plotTwoLists (c, d, 'Difference in Stocks Mentioned in r/WallStreetBets VS r/Investing')"
   ]
  },
  {
   "cell_type": "code",
   "execution_count": 316,
   "metadata": {},
   "outputs": [
    {
     "name": "stdout",
     "output_type": "stream",
     "text": [
      "['i', 'me', 'my', 'myself', 'we', 'our', 'ours', 'ourselves', 'you', \"you're\", \"you've\", \"you'll\", \"you'd\", 'your', 'yours', 'yourself', 'yourselves', 'he', 'him', 'his', 'himself', 'she', \"she's\", 'her', 'hers', 'herself', 'it', \"it's\", 'its', 'itself', 'they', 'them', 'their', 'theirs', 'themselves', 'what', 'which', 'who', 'whom', 'this', 'that', \"that'll\", 'these', 'those', 'am', 'is', 'are', 'was', 'were', 'be', 'been', 'being', 'have', 'has', 'had', 'having', 'do', 'does', 'did', 'doing', 'a', 'an', 'the', 'and', 'but', 'if', 'or', 'because', 'as', 'until', 'while', 'of', 'at', 'by', 'for', 'with', 'about', 'against', 'between', 'into', 'through', 'during', 'before', 'after', 'above', 'below', 'to', 'from', 'up', 'down', 'in', 'out', 'on', 'off', 'over', 'under', 'again', 'further', 'then', 'once', 'here', 'there', 'when', 'where', 'why', 'how', 'all', 'any', 'both', 'each', 'few', 'more', 'most', 'other', 'some', 'such', 'no', 'nor', 'not', 'only', 'own', 'same', 'so', 'than', 'too', 'very', 's', 't', 'can', 'will', 'just', 'don', \"don't\", 'should', \"should've\", 'now', 'd', 'll', 'm', 'o', 're', 've', 'y', 'ain', 'aren', \"aren't\", 'couldn', \"couldn't\", 'didn', \"didn't\", 'doesn', \"doesn't\", 'hadn', \"hadn't\", 'hasn', \"hasn't\", 'haven', \"haven't\", 'isn', \"isn't\", 'ma', 'mightn', \"mightn't\", 'mustn', \"mustn't\", 'needn', \"needn't\", 'shan', \"shan't\", 'shouldn', \"shouldn't\", 'wasn', \"wasn't\", 'weren', \"weren't\", 'won', \"won't\", 'wouldn', \"wouldn't\", 'ut', \"'re\", '.', ',', '--', \"'s\", '?', ')', '(', ':', \"'\", '\"', '-', '}', '{', '&', '|', '—']\n"
     ]
    }
   ],
   "source": [
    "import requests, re, nltk\n",
    "from bs4 import BeautifulSoup\n",
    "from nltk import clean_html\n",
    "from collections import Counter\n",
    "import operator\n",
    "\n",
    "# we may not care about the usage of stop words\n",
    "stop_words = nltk.corpus.stopwords.words('english') + [\n",
    " 'ut', '\\'re','.', ',', '--', '\\'s', '?', ')', '(', ':', '\\'',\n",
    " '\\\"', '-', '}', '{', '&', '|', u'\\u2014' ]\n",
    "\n",
    "print(stop_words)"
   ]
  },
  {
   "cell_type": "code",
   "execution_count": 144,
   "metadata": {},
   "outputs": [],
   "source": [
    "res_comments = requests.get(\"https://oauth.reddit.com/r/wallstreetbets/comments/xabtpz/\",\n",
    "                   headers=headers)\n",
    "\n",
    "#print(res_comments.json()) \n",
    "#d = ResultToDataframe(res_comments)\n",
    "\n"
   ]
  },
  {
   "cell_type": "code",
   "execution_count": 146,
   "metadata": {},
   "outputs": [
    {
     "name": "stdout",
     "output_type": "stream",
     "text": [
      "On 10\n",
      "Total Comments 308\n",
      "You have used 11.0 request.\n",
      "You have 589.0 out of 600.0 remaining requests left.\n",
      "This resets in 8:12\n",
      "\n",
      "On 20\n",
      "Total Comments 490\n",
      "You have used 21.0 request.\n",
      "You have 579.0 out of 600.0 remaining requests left.\n",
      "This resets in 8:08\n",
      "\n",
      "On 30\n",
      "Total Comments 696\n",
      "You have used 31.0 request.\n",
      "You have 569.0 out of 600.0 remaining requests left.\n",
      "This resets in 8:04\n",
      "\n",
      "On 40\n",
      "Total Comments 952\n",
      "You have used 41.0 request.\n",
      "You have 559.0 out of 600.0 remaining requests left.\n",
      "This resets in 8:00\n",
      "\n",
      "On 50\n",
      "Total Comments 1138\n",
      "You have used 51.0 request.\n",
      "You have 549.0 out of 600.0 remaining requests left.\n",
      "This resets in 7:56\n",
      "\n",
      "On 60\n",
      "Total Comments 1315\n",
      "You have used 61.0 request.\n",
      "You have 539.0 out of 600.0 remaining requests left.\n",
      "This resets in 7:51\n",
      "\n",
      "On 70\n",
      "Total Comments 1580\n",
      "You have used 71.0 request.\n",
      "You have 529.0 out of 600.0 remaining requests left.\n",
      "This resets in 7:45\n",
      "\n",
      "On 80\n",
      "Total Comments 1836\n",
      "You have used 81.0 request.\n",
      "You have 519.0 out of 600.0 remaining requests left.\n",
      "This resets in 7:40\n",
      "\n",
      "On 90\n",
      "Total Comments 1989\n",
      "You have used 91.0 request.\n",
      "You have 509.0 out of 600.0 remaining requests left.\n",
      "This resets in 7:36\n",
      "\n",
      "On 100\n",
      "Total Comments 2123\n",
      "You have used 101.0 request.\n",
      "You have 499.0 out of 600.0 remaining requests left.\n",
      "This resets in 7:32\n",
      "\n",
      "On 110\n",
      "Total Comments 2252\n",
      "You have used 111.0 request.\n",
      "You have 489.0 out of 600.0 remaining requests left.\n",
      "This resets in 7:28\n",
      "\n",
      "On 120\n",
      "Total Comments 2433\n",
      "You have used 121.0 request.\n",
      "You have 479.0 out of 600.0 remaining requests left.\n",
      "This resets in 7:23\n",
      "\n",
      "On 130\n",
      "Total Comments 2655\n",
      "You have used 131.0 request.\n",
      "You have 469.0 out of 600.0 remaining requests left.\n",
      "This resets in 7:20\n",
      "\n",
      "On 140\n",
      "Total Comments 2793\n",
      "You have used 141.0 request.\n",
      "You have 459.0 out of 600.0 remaining requests left.\n",
      "This resets in 7:15\n",
      "\n",
      "On 150\n",
      "Total Comments 3021\n",
      "You have used 151.0 request.\n",
      "You have 449.0 out of 600.0 remaining requests left.\n",
      "This resets in 7:09\n",
      "\n",
      "On 160\n",
      "Total Comments 3129\n",
      "You have used 161.0 request.\n",
      "You have 439.0 out of 600.0 remaining requests left.\n",
      "This resets in 7:06\n",
      "\n",
      "On 170\n",
      "Total Comments 3344\n",
      "You have used 171.0 request.\n",
      "You have 429.0 out of 600.0 remaining requests left.\n",
      "This resets in 7:01\n",
      "\n",
      "On 180\n",
      "Total Comments 3542\n",
      "You have used 181.0 request.\n",
      "You have 419.0 out of 600.0 remaining requests left.\n",
      "This resets in 6:56\n",
      "\n",
      "On 190\n",
      "Total Comments 3702\n",
      "You have used 191.0 request.\n",
      "You have 409.0 out of 600.0 remaining requests left.\n",
      "This resets in 6:52\n",
      "\n",
      "On 200\n",
      "Total Comments 4004\n",
      "You have used 201.0 request.\n",
      "You have 399.0 out of 600.0 remaining requests left.\n",
      "This resets in 6:45\n",
      "\n",
      "On 210\n",
      "Total Comments 4184\n",
      "You have used 211.0 request.\n",
      "You have 389.0 out of 600.0 remaining requests left.\n",
      "This resets in 6:40\n",
      "\n",
      "On 220\n",
      "Total Comments 4419\n",
      "You have used 221.0 request.\n",
      "You have 379.0 out of 600.0 remaining requests left.\n",
      "This resets in 6:35\n",
      "\n",
      "On 230\n",
      "Total Comments 4733\n",
      "You have used 231.0 request.\n",
      "You have 369.0 out of 600.0 remaining requests left.\n",
      "This resets in 6:29\n",
      "\n",
      "On 240\n",
      "Total Comments 4950\n",
      "You have used 241.0 request.\n",
      "You have 359.0 out of 600.0 remaining requests left.\n",
      "This resets in 6:23\n",
      "\n",
      "On 250\n",
      "Total Comments 5132\n",
      "You have used 251.0 request.\n",
      "You have 349.0 out of 600.0 remaining requests left.\n",
      "This resets in 6:18\n",
      "\n",
      "On 260\n",
      "Total Comments 5371\n",
      "You have used 261.0 request.\n",
      "You have 339.0 out of 600.0 remaining requests left.\n",
      "This resets in 6:14\n",
      "\n",
      "On 270\n",
      "Total Comments 5541\n",
      "You have used 271.0 request.\n",
      "You have 329.0 out of 600.0 remaining requests left.\n",
      "This resets in 6:08\n",
      "\n",
      "On 280\n",
      "Total Comments 5761\n",
      "You have used 281.0 request.\n",
      "You have 319.0 out of 600.0 remaining requests left.\n",
      "This resets in 6:02\n",
      "\n",
      "On 290\n",
      "Total Comments 5946\n",
      "You have used 291.0 request.\n",
      "You have 309.0 out of 600.0 remaining requests left.\n",
      "This resets in 5:57\n",
      "\n",
      "On 300\n",
      "Total Comments 6118\n",
      "You have used 301.0 request.\n",
      "You have 299.0 out of 600.0 remaining requests left.\n",
      "This resets in 5:54\n",
      "\n",
      "On 310\n",
      "Total Comments 6266\n",
      "You have used 311.0 request.\n",
      "You have 289.0 out of 600.0 remaining requests left.\n",
      "This resets in 5:50\n",
      "\n",
      "On 320\n",
      "Total Comments 6397\n",
      "You have used 321.0 request.\n",
      "You have 279.0 out of 600.0 remaining requests left.\n",
      "This resets in 5:45\n",
      "\n",
      "On 330\n",
      "Total Comments 6547\n",
      "You have used 331.0 request.\n",
      "You have 269.0 out of 600.0 remaining requests left.\n",
      "This resets in 5:40\n",
      "\n",
      "On 340\n",
      "Total Comments 6644\n",
      "You have used 341.0 request.\n",
      "You have 259.0 out of 600.0 remaining requests left.\n",
      "This resets in 5:38\n",
      "\n",
      "On 350\n",
      "Total Comments 6803\n",
      "You have used 351.0 request.\n",
      "You have 249.0 out of 600.0 remaining requests left.\n",
      "This resets in 5:32\n",
      "\n",
      "On 360\n",
      "Total Comments 7004\n",
      "You have used 361.0 request.\n",
      "You have 239.0 out of 600.0 remaining requests left.\n",
      "This resets in 5:28\n",
      "\n",
      "On 370\n",
      "Total Comments 7126\n",
      "You have used 371.0 request.\n",
      "You have 229.0 out of 600.0 remaining requests left.\n",
      "This resets in 5:24\n",
      "\n",
      "On 380\n",
      "Total Comments 7426\n",
      "You have used 381.0 request.\n",
      "You have 219.0 out of 600.0 remaining requests left.\n",
      "This resets in 5:17\n",
      "\n"
     ]
    }
   ],
   "source": [
    "import json\n",
    "\n",
    "my_list = []\n",
    "hot_df = pd.read_csv('386_hot_Posts_From_Stocks.csv')\n",
    "for num,i in enumerate(hot_df['id']):\n",
    "    if num % 10 == 0 and num != 0:\n",
    "        print(f\"On {num}\")       \n",
    "        print(f\"Total Comments {len(my_list)}\")\n",
    "        print_ratelimit(res_comments)\n",
    "        \n",
    "    res_comments = requests.get(f\"https://oauth.reddit.com/r/stocks/comments/{i}/\",\n",
    "                   headers=headers)\n",
    "    for i in res_comments.json():\n",
    "\n",
    "        for j in i['data']['children']:\n",
    "            if 'body' in j['data']:            \n",
    "                my_list.append(j['data']['body'])\n",
    "        #if 'data' in j['data']:\n",
    "        #    print(\"hel\")\n",
    "        #print(len(j.keys()))\n",
    "#         else:\n",
    "#             print(j['data'].keys())\n",
    "#         if 'children' in j['data']:\n",
    "#             for k in j['data']['children']:\n",
    "#                 print(k['data'])\n",
    "#for i,comment in enumerate(my_list):\n",
    "#    print(f\"Comment {i} is {comment}\")\n",
    "#for comment in res_comments.json():\n",
    "#    print(comment['data']['children'])\n",
    "# for i in res_comments.json()['data']['children']:\n",
    "#     print(\"f\")"
   ]
  },
  {
   "cell_type": "code",
   "execution_count": 147,
   "metadata": {},
   "outputs": [
    {
     "name": "stdout",
     "output_type": "stream",
     "text": [
      "7721\n"
     ]
    }
   ],
   "source": [
    "print(len(my_list))"
   ]
  },
  {
   "cell_type": "code",
   "execution_count": 148,
   "metadata": {},
   "outputs": [],
   "source": [
    "#print(len(my_list))\n",
    "list_to_df = pd.DataFrame(my_list)\n",
    "#print(list_to_df.head())\n",
    "list_to_df.to_csv('7721_comments_From_386_stocks_Posts.csv', encoding='utf-8')"
   ]
  },
  {
   "cell_type": "code",
   "execution_count": 422,
   "metadata": {},
   "outputs": [
    {
     "name": "stdout",
     "output_type": "stream",
     "text": [
      "748\n"
     ]
    }
   ],
   "source": [
    "count = 0\n",
    "for i in my_list:\n",
    "    if \"buy\" in i:\n",
    "        count += 1\n",
    "        #print(i)\n",
    "        \n",
    "print(count)"
   ]
  },
  {
   "cell_type": "code",
   "execution_count": 179,
   "metadata": {},
   "outputs": [
    {
     "name": "stdout",
     "output_type": "stream",
     "text": [
      "2022-09-10 01:01:29\n"
     ]
    }
   ],
   "source": [
    "from datetime import datetime\n",
    "t = 1662771689.0\n",
    "dt = datetime.fromtimestamp(t)\n",
    "print(dt)"
   ]
  },
  {
   "cell_type": "markdown",
   "metadata": {},
   "source": [
    "# Rate Limit Information"
   ]
  },
  {
   "cell_type": "code",
   "execution_count": 145,
   "metadata": {},
   "outputs": [
    {
     "name": "stdout",
     "output_type": "stream",
     "text": [
      "You have used 1.0 request.\n",
      "You have 599.0 out of 600.0 remaining requests left.\n",
      "This resets in 8:33\n",
      "\n"
     ]
    }
   ],
   "source": [
    "print_ratelimit(res_comments)"
   ]
  },
  {
   "cell_type": "code",
   "execution_count": 167,
   "metadata": {},
   "outputs": [],
   "source": [
    "#print(res_comments.headers)"
   ]
  },
  {
   "cell_type": "code",
   "execution_count": 168,
   "metadata": {},
   "outputs": [],
   "source": [
    "#res_comments.json()"
   ]
  },
  {
   "cell_type": "markdown",
   "metadata": {},
   "source": [
    "# Problems that I ran into:\n",
    "\n",
    "- My response was returning with no values because my password was incorrect, so I had to reset my password\n",
    "- Ratelimits\n",
    "- Reddit API will only allow users to go back around 1000 posts"
   ]
  },
  {
   "cell_type": "code",
   "execution_count": null,
   "metadata": {},
   "outputs": [],
   "source": []
  }
 ],
 "metadata": {
  "kernelspec": {
   "display_name": "Python 3 (ipykernel)",
   "language": "python",
   "name": "python3"
  },
  "language_info": {
   "codemirror_mode": {
    "name": "ipython",
    "version": 3
   },
   "file_extension": ".py",
   "mimetype": "text/x-python",
   "name": "python",
   "nbconvert_exporter": "python",
   "pygments_lexer": "ipython3",
   "version": "3.8.10"
  }
 },
 "nbformat": 4,
 "nbformat_minor": 1
}
